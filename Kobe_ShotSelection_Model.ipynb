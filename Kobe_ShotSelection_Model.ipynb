{
  "nbformat": 4,
  "nbformat_minor": 0,
  "metadata": {
    "colab": {
      "name": "Kobe-ShotSelection-Model.ipynb",
      "provenance": [],
      "collapsed_sections": []
    },
    "kernelspec": {
      "name": "python3",
      "display_name": "Python 3"
    }
  },
  "cells": [
    {
      "cell_type": "code",
      "metadata": {
        "id": "re8IwpIkUcLt",
        "colab_type": "code",
        "outputId": "715d57d6-9257-4b68-b359-928dd56a8feb",
        "colab": {
          "base_uri": "https://localhost:8080/",
          "height": 360
        }
      },
      "source": [
        "files = \"https://github.com/scoutog/Kobe-Bryant-Shot-Selection/raw/master/kobe-shots.zip\" \n",
        "!rm -rf * && wget $files && unzip -o kobe-shots.zip"
      ],
      "execution_count": 124,
      "outputs": [
        {
          "output_type": "stream",
          "text": [
            "--2019-10-19 21:28:57--  https://github.com/scoutog/Kobe-Bryant-Shot-Selection/raw/master/kobe-shots.zip\n",
            "Resolving github.com (github.com)... 192.30.253.112\n",
            "Connecting to github.com (github.com)|192.30.253.112|:443... connected.\n",
            "HTTP request sent, awaiting response... 302 Found\n",
            "Location: https://raw.githubusercontent.com/scoutog/Kobe-Bryant-Shot-Selection/master/kobe-shots.zip [following]\n",
            "--2019-10-19 21:28:57--  https://raw.githubusercontent.com/scoutog/Kobe-Bryant-Shot-Selection/master/kobe-shots.zip\n",
            "Resolving raw.githubusercontent.com (raw.githubusercontent.com)... 151.101.0.133, 151.101.64.133, 151.101.128.133, ...\n",
            "Connecting to raw.githubusercontent.com (raw.githubusercontent.com)|151.101.0.133|:443... connected.\n",
            "HTTP request sent, awaiting response... 200 OK\n",
            "Length: 738206 (721K) [application/zip]\n",
            "Saving to: ‘kobe-shots.zip’\n",
            "\n",
            "kobe-shots.zip      100%[===================>] 720.90K  --.-KB/s    in 0.04s   \n",
            "\n",
            "2019-10-19 21:28:57 (16.6 MB/s) - ‘kobe-shots.zip’ saved [738206/738206]\n",
            "\n",
            "Archive:  kobe-shots.zip\n",
            "  inflating: sample_submission.csv   \n",
            "  inflating: data.csv                \n"
          ],
          "name": "stdout"
        }
      ]
    },
    {
      "cell_type": "markdown",
      "metadata": {
        "id": "WaxtlNjeUdby",
        "colab_type": "text"
      },
      "source": [
        "## Load in the data and do some exploratory data analysis"
      ]
    },
    {
      "cell_type": "code",
      "metadata": {
        "id": "VqyYOMyDTSOo",
        "colab_type": "code",
        "outputId": "8d1248ed-1f95-49a7-a891-b9995482871f",
        "colab": {
          "base_uri": "https://localhost:8080/",
          "height": 264
        }
      },
      "source": [
        "# Load the data here\n",
        "import numpy as np \n",
        "import pandas as pd\n",
        "import matplotlib.pyplot as plt\n",
        "from sklearn.ensemble import RandomForestClassifier\n",
        "from sklearn.model_selection import KFold\n",
        "\n",
        "data  = pd.read_csv(\"data.csv\")\n",
        "\n",
        "data.head(3)\n"
      ],
      "execution_count": 125,
      "outputs": [
        {
          "output_type": "execute_result",
          "data": {
            "text/html": [
              "<div>\n",
              "<style scoped>\n",
              "    .dataframe tbody tr th:only-of-type {\n",
              "        vertical-align: middle;\n",
              "    }\n",
              "\n",
              "    .dataframe tbody tr th {\n",
              "        vertical-align: top;\n",
              "    }\n",
              "\n",
              "    .dataframe thead th {\n",
              "        text-align: right;\n",
              "    }\n",
              "</style>\n",
              "<table border=\"1\" class=\"dataframe\">\n",
              "  <thead>\n",
              "    <tr style=\"text-align: right;\">\n",
              "      <th></th>\n",
              "      <th>action_type</th>\n",
              "      <th>combined_shot_type</th>\n",
              "      <th>game_event_id</th>\n",
              "      <th>game_id</th>\n",
              "      <th>lat</th>\n",
              "      <th>loc_x</th>\n",
              "      <th>loc_y</th>\n",
              "      <th>lon</th>\n",
              "      <th>minutes_remaining</th>\n",
              "      <th>period</th>\n",
              "      <th>playoffs</th>\n",
              "      <th>season</th>\n",
              "      <th>seconds_remaining</th>\n",
              "      <th>shot_distance</th>\n",
              "      <th>shot_made_flag</th>\n",
              "      <th>shot_type</th>\n",
              "      <th>shot_zone_area</th>\n",
              "      <th>shot_zone_basic</th>\n",
              "      <th>shot_zone_range</th>\n",
              "      <th>team_id</th>\n",
              "      <th>team_name</th>\n",
              "      <th>game_date</th>\n",
              "      <th>matchup</th>\n",
              "      <th>opponent</th>\n",
              "      <th>shot_id</th>\n",
              "    </tr>\n",
              "  </thead>\n",
              "  <tbody>\n",
              "    <tr>\n",
              "      <th>0</th>\n",
              "      <td>Jump Shot</td>\n",
              "      <td>Jump Shot</td>\n",
              "      <td>10</td>\n",
              "      <td>20000012</td>\n",
              "      <td>33.9723</td>\n",
              "      <td>167</td>\n",
              "      <td>72</td>\n",
              "      <td>-118.1028</td>\n",
              "      <td>10</td>\n",
              "      <td>1</td>\n",
              "      <td>0</td>\n",
              "      <td>2000-01</td>\n",
              "      <td>27</td>\n",
              "      <td>18</td>\n",
              "      <td>NaN</td>\n",
              "      <td>2PT Field Goal</td>\n",
              "      <td>Right Side(R)</td>\n",
              "      <td>Mid-Range</td>\n",
              "      <td>16-24 ft.</td>\n",
              "      <td>1610612747</td>\n",
              "      <td>Los Angeles Lakers</td>\n",
              "      <td>2000-10-31</td>\n",
              "      <td>LAL @ POR</td>\n",
              "      <td>POR</td>\n",
              "      <td>1</td>\n",
              "    </tr>\n",
              "    <tr>\n",
              "      <th>1</th>\n",
              "      <td>Jump Shot</td>\n",
              "      <td>Jump Shot</td>\n",
              "      <td>12</td>\n",
              "      <td>20000012</td>\n",
              "      <td>34.0443</td>\n",
              "      <td>-157</td>\n",
              "      <td>0</td>\n",
              "      <td>-118.4268</td>\n",
              "      <td>10</td>\n",
              "      <td>1</td>\n",
              "      <td>0</td>\n",
              "      <td>2000-01</td>\n",
              "      <td>22</td>\n",
              "      <td>15</td>\n",
              "      <td>0.0</td>\n",
              "      <td>2PT Field Goal</td>\n",
              "      <td>Left Side(L)</td>\n",
              "      <td>Mid-Range</td>\n",
              "      <td>8-16 ft.</td>\n",
              "      <td>1610612747</td>\n",
              "      <td>Los Angeles Lakers</td>\n",
              "      <td>2000-10-31</td>\n",
              "      <td>LAL @ POR</td>\n",
              "      <td>POR</td>\n",
              "      <td>2</td>\n",
              "    </tr>\n",
              "    <tr>\n",
              "      <th>2</th>\n",
              "      <td>Jump Shot</td>\n",
              "      <td>Jump Shot</td>\n",
              "      <td>35</td>\n",
              "      <td>20000012</td>\n",
              "      <td>33.9093</td>\n",
              "      <td>-101</td>\n",
              "      <td>135</td>\n",
              "      <td>-118.3708</td>\n",
              "      <td>7</td>\n",
              "      <td>1</td>\n",
              "      <td>0</td>\n",
              "      <td>2000-01</td>\n",
              "      <td>45</td>\n",
              "      <td>16</td>\n",
              "      <td>1.0</td>\n",
              "      <td>2PT Field Goal</td>\n",
              "      <td>Left Side Center(LC)</td>\n",
              "      <td>Mid-Range</td>\n",
              "      <td>16-24 ft.</td>\n",
              "      <td>1610612747</td>\n",
              "      <td>Los Angeles Lakers</td>\n",
              "      <td>2000-10-31</td>\n",
              "      <td>LAL @ POR</td>\n",
              "      <td>POR</td>\n",
              "      <td>3</td>\n",
              "    </tr>\n",
              "  </tbody>\n",
              "</table>\n",
              "</div>"
            ],
            "text/plain": [
              "  action_type combined_shot_type  game_event_id  ...    matchup  opponent  shot_id\n",
              "0   Jump Shot          Jump Shot             10  ...  LAL @ POR       POR        1\n",
              "1   Jump Shot          Jump Shot             12  ...  LAL @ POR       POR        2\n",
              "2   Jump Shot          Jump Shot             35  ...  LAL @ POR       POR        3\n",
              "\n",
              "[3 rows x 25 columns]"
            ]
          },
          "metadata": {
            "tags": []
          },
          "execution_count": 125
        }
      ]
    },
    {
      "cell_type": "code",
      "metadata": {
        "id": "JWBEu6wbXGtv",
        "colab_type": "code",
        "colab": {
          "base_uri": "https://localhost:8080/",
          "height": 34
        },
        "outputId": "46ee5d2e-3307-4fe6-941e-3f3d6436bbc7"
      },
      "source": [
        "print('Dim of data: ', data.shape)"
      ],
      "execution_count": 126,
      "outputs": [
        {
          "output_type": "stream",
          "text": [
            "Dim of data:  (30697, 25)\n"
          ],
          "name": "stdout"
        }
      ]
    },
    {
      "cell_type": "code",
      "metadata": {
        "id": "5-7xtYhenQrG",
        "colab_type": "code",
        "colab": {
          "base_uri": "https://localhost:8080/",
          "height": 442
        },
        "outputId": "e82fce4b-3742-48f4-bc79-ec137dfc577d"
      },
      "source": [
        "list(data.columns)"
      ],
      "execution_count": 127,
      "outputs": [
        {
          "output_type": "execute_result",
          "data": {
            "text/plain": [
              "['action_type',\n",
              " 'combined_shot_type',\n",
              " 'game_event_id',\n",
              " 'game_id',\n",
              " 'lat',\n",
              " 'loc_x',\n",
              " 'loc_y',\n",
              " 'lon',\n",
              " 'minutes_remaining',\n",
              " 'period',\n",
              " 'playoffs',\n",
              " 'season',\n",
              " 'seconds_remaining',\n",
              " 'shot_distance',\n",
              " 'shot_made_flag',\n",
              " 'shot_type',\n",
              " 'shot_zone_area',\n",
              " 'shot_zone_basic',\n",
              " 'shot_zone_range',\n",
              " 'team_id',\n",
              " 'team_name',\n",
              " 'game_date',\n",
              " 'matchup',\n",
              " 'opponent',\n",
              " 'shot_id']"
            ]
          },
          "metadata": {
            "tags": []
          },
          "execution_count": 127
        }
      ]
    },
    {
      "cell_type": "code",
      "metadata": {
        "id": "YS5YPDcDmOeo",
        "colab_type": "code",
        "colab": {}
      },
      "source": [
        "dropna =  data[pd.notnull(data['shot_made_flag'])]"
      ],
      "execution_count": 0,
      "outputs": []
    },
    {
      "cell_type": "markdown",
      "metadata": {
        "id": "vIG0e_Eimoqu",
        "colab_type": "text"
      },
      "source": [
        "###Understanding loc_x, loc_y, lat, and lon"
      ]
    },
    {
      "cell_type": "code",
      "metadata": {
        "id": "nbzS3k3lmXal",
        "colab_type": "code",
        "colab": {
          "base_uri": "https://localhost:8080/",
          "height": 624
        },
        "outputId": "5f33409c-12ac-4761-ba4b-e1ee4af74920"
      },
      "source": [
        "alpha = 0.02\n",
        "plt.figure(figsize=(10,10))\n",
        "\n",
        "# loc_x and loc_y\n",
        "plt.subplot(121)\n",
        "plt.scatter(dropna.loc_x, dropna.loc_y, color='blue', alpha=.02)\n",
        "plt.title('loc_x and loc_y')\n",
        "\n",
        "# lat and lon\n",
        "plt.subplot(122)\n",
        "plt.scatter(dropna.lon, dropna.lat, color='green', alpha=.02)\n",
        "plt.title('lat and lon')"
      ],
      "execution_count": 129,
      "outputs": [
        {
          "output_type": "execute_result",
          "data": {
            "text/plain": [
              "Text(0.5, 1.0, 'lat and lon')"
            ]
          },
          "metadata": {
            "tags": []
          },
          "execution_count": 129
        },
        {
          "output_type": "display_data",
          "data": {
            "image/png": "[encoded data removed]",
            "text/plain": [
              "<Figure size 720x720 with 2 Axes>"
            ]
          },
          "metadata": {
            "tags": []
          }
        }
      ]
    },
    {
      "cell_type": "markdown",
      "metadata": {
        "id": "obeWUUkZs5IS",
        "colab_type": "text"
      },
      "source": [
        "###Using this data to create variables angle and dist i.e. polar coordinates. This allows us to get rid of many variables"
      ]
    },
    {
      "cell_type": "code",
      "metadata": {
        "id": "UvFyYZ_AtDhv",
        "colab_type": "code",
        "colab": {
          "base_uri": "https://localhost:8080/",
          "height": 207
        },
        "outputId": "0ef6b1ee-eb87-4126-c1eb-d3ca59639a49"
      },
      "source": [
        "data['dist'] = np.sqrt(data['loc_x']**2 + data['loc_y']**2)\n",
        "\n",
        "loc_x_zero=data['loc_x'] == 0\n",
        "data['angle'] = np.array([0]*len(data))\n",
        "data['angle'][~loc_x_zero] = np.arctan(data['loc_y'][~loc_x_zero] / data['loc_x'][~loc_x_zero])\n",
        "data['angle'][loc_x_zero] = np.pi / 2 "
      ],
      "execution_count": 130,
      "outputs": [
        {
          "output_type": "stream",
          "text": [
            "/usr/local/lib/python3.6/dist-packages/ipykernel_launcher.py:5: SettingWithCopyWarning: \n",
            "A value is trying to be set on a copy of a slice from a DataFrame\n",
            "\n",
            "See the caveats in the documentation: http://pandas.pydata.org/pandas-docs/stable/indexing.html#indexing-view-versus-copy\n",
            "  \"\"\"\n",
            "/usr/local/lib/python3.6/dist-packages/ipykernel_launcher.py:6: SettingWithCopyWarning: \n",
            "A value is trying to be set on a copy of a slice from a DataFrame\n",
            "\n",
            "See the caveats in the documentation: http://pandas.pydata.org/pandas-docs/stable/indexing.html#indexing-view-versus-copy\n",
            "  \n"
          ],
          "name": "stderr"
        }
      ]
    },
    {
      "cell_type": "markdown",
      "metadata": {
        "id": "Bila9jmqnJBy",
        "colab_type": "text"
      },
      "source": [
        "###Explore action_type, combined_shot_type, and shot_type\n",
        "\n",
        "#####action_type is very specific \n",
        "\n",
        "#####combined_shot_type tells us what kind of shot it is\n",
        "\n",
        "#####shot_type tells us if its for 2 or 3"
      ]
    },
    {
      "cell_type": "code",
      "metadata": {
        "id": "F_Q0k_WLoPdu",
        "colab_type": "code",
        "colab": {
          "base_uri": "https://localhost:8080/",
          "height": 340
        },
        "outputId": "a9e8a825-6c2e-4bf1-fc95-824499cff32f"
      },
      "source": [
        "print(dropna.action_type.unique())"
      ],
      "execution_count": 131,
      "outputs": [
        {
          "output_type": "stream",
          "text": [
            "['Jump Shot' 'Driving Dunk Shot' 'Layup Shot' 'Running Jump Shot'\n",
            " 'Reverse Dunk Shot' 'Slam Dunk Shot' 'Driving Layup Shot'\n",
            " 'Turnaround Jump Shot' 'Reverse Layup Shot' 'Tip Shot'\n",
            " 'Running Hook Shot' 'Alley Oop Dunk Shot' 'Dunk Shot'\n",
            " 'Alley Oop Layup shot' 'Running Dunk Shot' 'Driving Finger Roll Shot'\n",
            " 'Running Layup Shot' 'Finger Roll Shot' 'Fadeaway Jump Shot'\n",
            " 'Follow Up Dunk Shot' 'Hook Shot' 'Turnaround Hook Shot' 'Jump Hook Shot'\n",
            " 'Running Finger Roll Shot' 'Jump Bank Shot' 'Turnaround Finger Roll Shot'\n",
            " 'Hook Bank Shot' 'Driving Hook Shot' 'Running Tip Shot'\n",
            " 'Running Reverse Layup Shot' 'Driving Finger Roll Layup Shot'\n",
            " 'Fadeaway Bank shot' 'Pullup Jump shot' 'Finger Roll Layup Shot'\n",
            " 'Turnaround Fadeaway shot' 'Driving Reverse Layup Shot'\n",
            " 'Driving Slam Dunk Shot' 'Step Back Jump shot' 'Turnaround Bank shot'\n",
            " 'Reverse Slam Dunk Shot' 'Floating Jump shot' 'Putback Slam Dunk Shot'\n",
            " 'Running Bank shot' 'Driving Bank shot' 'Driving Jump shot'\n",
            " 'Putback Layup Shot' 'Putback Dunk Shot' 'Running Finger Roll Layup Shot'\n",
            " 'Pullup Bank shot' 'Running Slam Dunk Shot' 'Cutting Layup Shot'\n",
            " 'Driving Floating Jump Shot' 'Running Pull-Up Jump Shot' 'Tip Layup Shot'\n",
            " 'Driving Floating Bank Jump Shot']\n"
          ],
          "name": "stdout"
        }
      ]
    },
    {
      "cell_type": "code",
      "metadata": {
        "id": "NBVJLWJsof8k",
        "colab_type": "code",
        "colab": {
          "base_uri": "https://localhost:8080/",
          "height": 34
        },
        "outputId": "18392fe1-4ae3-4487-b71a-177d18810316"
      },
      "source": [
        "print(dropna.combined_shot_type.unique())"
      ],
      "execution_count": 132,
      "outputs": [
        {
          "output_type": "stream",
          "text": [
            "['Jump Shot' 'Dunk' 'Layup' 'Tip Shot' 'Hook Shot' 'Bank Shot']\n"
          ],
          "name": "stdout"
        }
      ]
    },
    {
      "cell_type": "code",
      "metadata": {
        "id": "e_q8b4iyolW6",
        "colab_type": "code",
        "colab": {
          "base_uri": "https://localhost:8080/",
          "height": 34
        },
        "outputId": "f1c7cedb-a315-42a5-9855-5e250eca5f78"
      },
      "source": [
        "print(dropna.shot_type.unique())"
      ],
      "execution_count": 133,
      "outputs": [
        {
          "output_type": "stream",
          "text": [
            "['2PT Field Goal' '3PT Field Goal']\n"
          ],
          "name": "stdout"
        }
      ]
    },
    {
      "cell_type": "markdown",
      "metadata": {
        "id": "buEUKdGUoxa0",
        "colab_type": "text"
      },
      "source": [
        "### Combining minutes remaining and seconds remaining to form one variable 'remaining_time'\n",
        "\n"
      ]
    },
    {
      "cell_type": "code",
      "metadata": {
        "id": "JscjS_PInIFu",
        "colab_type": "code",
        "colab": {}
      },
      "source": [
        "data['remaining_time'] = data['minutes_remaining'] * 60 + data['seconds_remaining']"
      ],
      "execution_count": 0,
      "outputs": []
    },
    {
      "cell_type": "markdown",
      "metadata": {
        "id": "pX1urTPWo7QP",
        "colab_type": "text"
      },
      "source": [
        "###Season: If season is 2015-16 change it so its just 2015"
      ]
    },
    {
      "cell_type": "code",
      "metadata": {
        "id": "E03DoA92o-nY",
        "colab_type": "code",
        "colab": {
          "base_uri": "https://localhost:8080/",
          "height": 85
        },
        "outputId": "e5f3800d-9472-4c8c-9b84-c96d03591f4e"
      },
      "source": [
        "dropna['season'].unique()"
      ],
      "execution_count": 135,
      "outputs": [
        {
          "output_type": "execute_result",
          "data": {
            "text/plain": [
              "array(['2000-01', '2001-02', '2002-03', '2003-04', '2004-05', '2005-06',\n",
              "       '2006-07', '2007-08', '2008-09', '2009-10', '2010-11', '2011-12',\n",
              "       '2012-13', '2013-14', '2014-15', '2015-16', '1996-97', '1997-98',\n",
              "       '1998-99', '1999-00'], dtype=object)"
            ]
          },
          "metadata": {
            "tags": []
          },
          "execution_count": 135
        }
      ]
    },
    {
      "cell_type": "code",
      "metadata": {
        "id": "qJBAxpZ4pDTp",
        "colab_type": "code",
        "colab": {
          "base_uri": "https://localhost:8080/",
          "height": 51
        },
        "outputId": "7c1ba205-a4ba-4792-8307-4fe4444b6540"
      },
      "source": [
        "data['season'] = data['season'].apply(lambda x: int(x.split('-')[0]))\n",
        "data['season'].unique()"
      ],
      "execution_count": 136,
      "outputs": [
        {
          "output_type": "execute_result",
          "data": {
            "text/plain": [
              "array([2000, 2001, 2002, 2003, 2004, 2005, 2006, 2007, 2008, 2009, 2010,\n",
              "       2011, 2012, 2013, 2014, 2015, 1996, 1997, 1998, 1999])"
            ]
          },
          "metadata": {
            "tags": []
          },
          "execution_count": 136
        }
      ]
    },
    {
      "cell_type": "markdown",
      "metadata": {
        "id": "rHzQPtmiqGqz",
        "colab_type": "text"
      },
      "source": [
        "###Look at team_id and team_name (NOTE that Kobe played his whole career for the Lakers)"
      ]
    },
    {
      "cell_type": "code",
      "metadata": {
        "id": "Y2NOUI-ip9XA",
        "colab_type": "code",
        "colab": {
          "base_uri": "https://localhost:8080/",
          "height": 51
        },
        "outputId": "b174e2bd-7535-4959-d56f-ae8badd7a2cf"
      },
      "source": [
        "print(dropna['team_id'].unique())\n",
        "print(dropna['team_name'].unique())"
      ],
      "execution_count": 137,
      "outputs": [
        {
          "output_type": "stream",
          "text": [
            "[1610612747]\n",
            "['Los Angeles Lakers']\n"
          ],
          "name": "stdout"
        }
      ]
    },
    {
      "cell_type": "markdown",
      "metadata": {
        "id": "39TWUj1dqX8I",
        "colab_type": "text"
      },
      "source": [
        "###Look at opponent and matchup (REDUNDANT)"
      ]
    },
    {
      "cell_type": "code",
      "metadata": {
        "id": "p-s0Jy0sqc_3",
        "colab_type": "code",
        "colab": {
          "base_uri": "https://localhost:8080/",
          "height": 204
        },
        "outputId": "00d3750f-2e10-4e03-c869-e2fae379f23f"
      },
      "source": [
        "pd.DataFrame({'matchup':dropna.matchup, 'opponent':dropna.opponent}).head()"
      ],
      "execution_count": 138,
      "outputs": [
        {
          "output_type": "execute_result",
          "data": {
            "text/html": [
              "<div>\n",
              "<style scoped>\n",
              "    .dataframe tbody tr th:only-of-type {\n",
              "        vertical-align: middle;\n",
              "    }\n",
              "\n",
              "    .dataframe tbody tr th {\n",
              "        vertical-align: top;\n",
              "    }\n",
              "\n",
              "    .dataframe thead th {\n",
              "        text-align: right;\n",
              "    }\n",
              "</style>\n",
              "<table border=\"1\" class=\"dataframe\">\n",
              "  <thead>\n",
              "    <tr style=\"text-align: right;\">\n",
              "      <th></th>\n",
              "      <th>matchup</th>\n",
              "      <th>opponent</th>\n",
              "    </tr>\n",
              "  </thead>\n",
              "  <tbody>\n",
              "    <tr>\n",
              "      <th>1</th>\n",
              "      <td>LAL @ POR</td>\n",
              "      <td>POR</td>\n",
              "    </tr>\n",
              "    <tr>\n",
              "      <th>2</th>\n",
              "      <td>LAL @ POR</td>\n",
              "      <td>POR</td>\n",
              "    </tr>\n",
              "    <tr>\n",
              "      <th>3</th>\n",
              "      <td>LAL @ POR</td>\n",
              "      <td>POR</td>\n",
              "    </tr>\n",
              "    <tr>\n",
              "      <th>4</th>\n",
              "      <td>LAL @ POR</td>\n",
              "      <td>POR</td>\n",
              "    </tr>\n",
              "    <tr>\n",
              "      <th>5</th>\n",
              "      <td>LAL @ POR</td>\n",
              "      <td>POR</td>\n",
              "    </tr>\n",
              "  </tbody>\n",
              "</table>\n",
              "</div>"
            ],
            "text/plain": [
              "     matchup opponent\n",
              "1  LAL @ POR      POR\n",
              "2  LAL @ POR      POR\n",
              "3  LAL @ POR      POR\n",
              "4  LAL @ POR      POR\n",
              "5  LAL @ POR      POR"
            ]
          },
          "metadata": {
            "tags": []
          },
          "execution_count": 138
        }
      ]
    },
    {
      "cell_type": "markdown",
      "metadata": {
        "id": "uw37W_3btv0j",
        "colab_type": "text"
      },
      "source": [
        "###Drop unnecessary variables"
      ]
    },
    {
      "cell_type": "code",
      "metadata": {
        "id": "w2oNiwLhtu32",
        "colab_type": "code",
        "colab": {}
      },
      "source": [
        "drops = ['shot_id', 'team_id', 'team_name', 'shot_zone_area', 'shot_zone_range',\n",
        "         'shot_zone_basic', 'matchup', 'lon', 'lat', 'seconds_remaining', \n",
        "         'minutes_remaining', 'shot_distance', 'loc_x', 'loc_y', \n",
        "         'game_event_id', 'game_id', 'game_date']\n",
        "\n",
        "for i in drops:\n",
        "    data = data.drop(i, 1)"
      ],
      "execution_count": 0,
      "outputs": []
    },
    {
      "cell_type": "code",
      "metadata": {
        "id": "czidcX_cuIfy",
        "colab_type": "code",
        "colab": {
          "base_uri": "https://localhost:8080/",
          "height": 309
        },
        "outputId": "64cf3b48-e180-456a-991e-6f46c02cb0d5"
      },
      "source": [
        "data.head()"
      ],
      "execution_count": 140,
      "outputs": [
        {
          "output_type": "execute_result",
          "data": {
            "text/html": [
              "<div>\n",
              "<style scoped>\n",
              "    .dataframe tbody tr th:only-of-type {\n",
              "        vertical-align: middle;\n",
              "    }\n",
              "\n",
              "    .dataframe tbody tr th {\n",
              "        vertical-align: top;\n",
              "    }\n",
              "\n",
              "    .dataframe thead th {\n",
              "        text-align: right;\n",
              "    }\n",
              "</style>\n",
              "<table border=\"1\" class=\"dataframe\">\n",
              "  <thead>\n",
              "    <tr style=\"text-align: right;\">\n",
              "      <th></th>\n",
              "      <th>action_type</th>\n",
              "      <th>combined_shot_type</th>\n",
              "      <th>period</th>\n",
              "      <th>playoffs</th>\n",
              "      <th>season</th>\n",
              "      <th>shot_made_flag</th>\n",
              "      <th>shot_type</th>\n",
              "      <th>opponent</th>\n",
              "      <th>dist</th>\n",
              "      <th>angle</th>\n",
              "      <th>remaining_time</th>\n",
              "    </tr>\n",
              "  </thead>\n",
              "  <tbody>\n",
              "    <tr>\n",
              "      <th>0</th>\n",
              "      <td>Jump Shot</td>\n",
              "      <td>Jump Shot</td>\n",
              "      <td>1</td>\n",
              "      <td>0</td>\n",
              "      <td>2000</td>\n",
              "      <td>NaN</td>\n",
              "      <td>2PT Field Goal</td>\n",
              "      <td>POR</td>\n",
              "      <td>181.859836</td>\n",
              "      <td>0.407058</td>\n",
              "      <td>627</td>\n",
              "    </tr>\n",
              "    <tr>\n",
              "      <th>1</th>\n",
              "      <td>Jump Shot</td>\n",
              "      <td>Jump Shot</td>\n",
              "      <td>1</td>\n",
              "      <td>0</td>\n",
              "      <td>2000</td>\n",
              "      <td>0.0</td>\n",
              "      <td>2PT Field Goal</td>\n",
              "      <td>POR</td>\n",
              "      <td>157.000000</td>\n",
              "      <td>-0.000000</td>\n",
              "      <td>622</td>\n",
              "    </tr>\n",
              "    <tr>\n",
              "      <th>2</th>\n",
              "      <td>Jump Shot</td>\n",
              "      <td>Jump Shot</td>\n",
              "      <td>1</td>\n",
              "      <td>0</td>\n",
              "      <td>2000</td>\n",
              "      <td>1.0</td>\n",
              "      <td>2PT Field Goal</td>\n",
              "      <td>POR</td>\n",
              "      <td>168.600119</td>\n",
              "      <td>-0.928481</td>\n",
              "      <td>465</td>\n",
              "    </tr>\n",
              "    <tr>\n",
              "      <th>3</th>\n",
              "      <td>Jump Shot</td>\n",
              "      <td>Jump Shot</td>\n",
              "      <td>1</td>\n",
              "      <td>0</td>\n",
              "      <td>2000</td>\n",
              "      <td>0.0</td>\n",
              "      <td>2PT Field Goal</td>\n",
              "      <td>POR</td>\n",
              "      <td>222.865430</td>\n",
              "      <td>0.903063</td>\n",
              "      <td>412</td>\n",
              "    </tr>\n",
              "    <tr>\n",
              "      <th>4</th>\n",
              "      <td>Driving Dunk Shot</td>\n",
              "      <td>Dunk</td>\n",
              "      <td>2</td>\n",
              "      <td>0</td>\n",
              "      <td>2000</td>\n",
              "      <td>1.0</td>\n",
              "      <td>2PT Field Goal</td>\n",
              "      <td>POR</td>\n",
              "      <td>0.000000</td>\n",
              "      <td>1.570796</td>\n",
              "      <td>379</td>\n",
              "    </tr>\n",
              "  </tbody>\n",
              "</table>\n",
              "</div>"
            ],
            "text/plain": [
              "         action_type combined_shot_type  ...     angle  remaining_time\n",
              "0          Jump Shot          Jump Shot  ...  0.407058             627\n",
              "1          Jump Shot          Jump Shot  ... -0.000000             622\n",
              "2          Jump Shot          Jump Shot  ... -0.928481             465\n",
              "3          Jump Shot          Jump Shot  ...  0.903063             412\n",
              "4  Driving Dunk Shot               Dunk  ...  1.570796             379\n",
              "\n",
              "[5 rows x 11 columns]"
            ]
          },
          "metadata": {
            "tags": []
          },
          "execution_count": 140
        }
      ]
    },
    {
      "cell_type": "markdown",
      "metadata": {
        "id": "Z8trX4RuuLhu",
        "colab_type": "text"
      },
      "source": [
        "###Make dummy variables from categorical data"
      ]
    },
    {
      "cell_type": "code",
      "metadata": {
        "id": "ezEeTJeYudBn",
        "colab_type": "code",
        "colab": {}
      },
      "source": [
        "features_data = data[['action_type', 'combined_shot_type', 'shot_type', \n",
        "                      'opponent', 'period', 'season']]\n",
        "\n",
        "for i in features_data:\n",
        "    data = pd.concat([data, pd.get_dummies(data[i], prefix=i)], 1)\n",
        "    data = data.drop(i, 1)"
      ],
      "execution_count": 0,
      "outputs": []
    },
    {
      "cell_type": "code",
      "metadata": {
        "id": "99iqyX1rv24I",
        "colab_type": "code",
        "outputId": "fc248224-6258-4ce9-8026-c823ec8f921a",
        "colab": {
          "base_uri": "https://localhost:8080/",
          "height": 287
        }
      },
      "source": [
        "data.head()"
      ],
      "execution_count": 142,
      "outputs": [
        {
          "output_type": "execute_result",
          "data": {
            "text/html": [
              "<div>\n",
              "<style scoped>\n",
              "    .dataframe tbody tr th:only-of-type {\n",
              "        vertical-align: middle;\n",
              "    }\n",
              "\n",
              "    .dataframe tbody tr th {\n",
              "        vertical-align: top;\n",
              "    }\n",
              "\n",
              "    .dataframe thead th {\n",
              "        text-align: right;\n",
              "    }\n",
              "</style>\n",
              "<table border=\"1\" class=\"dataframe\">\n",
              "  <thead>\n",
              "    <tr style=\"text-align: right;\">\n",
              "      <th></th>\n",
              "      <th>playoffs</th>\n",
              "      <th>shot_made_flag</th>\n",
              "      <th>dist</th>\n",
              "      <th>angle</th>\n",
              "      <th>remaining_time</th>\n",
              "      <th>action_type_Alley Oop Dunk Shot</th>\n",
              "      <th>action_type_Alley Oop Layup shot</th>\n",
              "      <th>action_type_Cutting Finger Roll Layup Shot</th>\n",
              "      <th>action_type_Cutting Layup Shot</th>\n",
              "      <th>action_type_Driving Bank shot</th>\n",
              "      <th>action_type_Driving Dunk Shot</th>\n",
              "      <th>action_type_Driving Finger Roll Layup Shot</th>\n",
              "      <th>action_type_Driving Finger Roll Shot</th>\n",
              "      <th>action_type_Driving Floating Bank Jump Shot</th>\n",
              "      <th>action_type_Driving Floating Jump Shot</th>\n",
              "      <th>action_type_Driving Hook Shot</th>\n",
              "      <th>action_type_Driving Jump shot</th>\n",
              "      <th>action_type_Driving Layup Shot</th>\n",
              "      <th>action_type_Driving Reverse Layup Shot</th>\n",
              "      <th>action_type_Driving Slam Dunk Shot</th>\n",
              "      <th>action_type_Dunk Shot</th>\n",
              "      <th>action_type_Fadeaway Bank shot</th>\n",
              "      <th>action_type_Fadeaway Jump Shot</th>\n",
              "      <th>action_type_Finger Roll Layup Shot</th>\n",
              "      <th>action_type_Finger Roll Shot</th>\n",
              "      <th>action_type_Floating Jump shot</th>\n",
              "      <th>action_type_Follow Up Dunk Shot</th>\n",
              "      <th>action_type_Hook Bank Shot</th>\n",
              "      <th>action_type_Hook Shot</th>\n",
              "      <th>action_type_Jump Bank Shot</th>\n",
              "      <th>action_type_Jump Hook Shot</th>\n",
              "      <th>action_type_Jump Shot</th>\n",
              "      <th>action_type_Layup Shot</th>\n",
              "      <th>action_type_Pullup Bank shot</th>\n",
              "      <th>action_type_Pullup Jump shot</th>\n",
              "      <th>action_type_Putback Dunk Shot</th>\n",
              "      <th>action_type_Putback Layup Shot</th>\n",
              "      <th>action_type_Putback Slam Dunk Shot</th>\n",
              "      <th>action_type_Reverse Dunk Shot</th>\n",
              "      <th>action_type_Reverse Layup Shot</th>\n",
              "      <th>...</th>\n",
              "      <th>opponent_NYK</th>\n",
              "      <th>opponent_OKC</th>\n",
              "      <th>opponent_ORL</th>\n",
              "      <th>opponent_PHI</th>\n",
              "      <th>opponent_PHX</th>\n",
              "      <th>opponent_POR</th>\n",
              "      <th>opponent_SAC</th>\n",
              "      <th>opponent_SAS</th>\n",
              "      <th>opponent_SEA</th>\n",
              "      <th>opponent_TOR</th>\n",
              "      <th>opponent_UTA</th>\n",
              "      <th>opponent_VAN</th>\n",
              "      <th>opponent_WAS</th>\n",
              "      <th>period_1</th>\n",
              "      <th>period_2</th>\n",
              "      <th>period_3</th>\n",
              "      <th>period_4</th>\n",
              "      <th>period_5</th>\n",
              "      <th>period_6</th>\n",
              "      <th>period_7</th>\n",
              "      <th>season_1996</th>\n",
              "      <th>season_1997</th>\n",
              "      <th>season_1998</th>\n",
              "      <th>season_1999</th>\n",
              "      <th>season_2000</th>\n",
              "      <th>season_2001</th>\n",
              "      <th>season_2002</th>\n",
              "      <th>season_2003</th>\n",
              "      <th>season_2004</th>\n",
              "      <th>season_2005</th>\n",
              "      <th>season_2006</th>\n",
              "      <th>season_2007</th>\n",
              "      <th>season_2008</th>\n",
              "      <th>season_2009</th>\n",
              "      <th>season_2010</th>\n",
              "      <th>season_2011</th>\n",
              "      <th>season_2012</th>\n",
              "      <th>season_2013</th>\n",
              "      <th>season_2014</th>\n",
              "      <th>season_2015</th>\n",
              "    </tr>\n",
              "  </thead>\n",
              "  <tbody>\n",
              "    <tr>\n",
              "      <th>0</th>\n",
              "      <td>0</td>\n",
              "      <td>NaN</td>\n",
              "      <td>181.859836</td>\n",
              "      <td>0.407058</td>\n",
              "      <td>627</td>\n",
              "      <td>0</td>\n",
              "      <td>0</td>\n",
              "      <td>0</td>\n",
              "      <td>0</td>\n",
              "      <td>0</td>\n",
              "      <td>0</td>\n",
              "      <td>0</td>\n",
              "      <td>0</td>\n",
              "      <td>0</td>\n",
              "      <td>0</td>\n",
              "      <td>0</td>\n",
              "      <td>0</td>\n",
              "      <td>0</td>\n",
              "      <td>0</td>\n",
              "      <td>0</td>\n",
              "      <td>0</td>\n",
              "      <td>0</td>\n",
              "      <td>0</td>\n",
              "      <td>0</td>\n",
              "      <td>0</td>\n",
              "      <td>0</td>\n",
              "      <td>0</td>\n",
              "      <td>0</td>\n",
              "      <td>0</td>\n",
              "      <td>0</td>\n",
              "      <td>0</td>\n",
              "      <td>1</td>\n",
              "      <td>0</td>\n",
              "      <td>0</td>\n",
              "      <td>0</td>\n",
              "      <td>0</td>\n",
              "      <td>0</td>\n",
              "      <td>0</td>\n",
              "      <td>0</td>\n",
              "      <td>0</td>\n",
              "      <td>...</td>\n",
              "      <td>0</td>\n",
              "      <td>0</td>\n",
              "      <td>0</td>\n",
              "      <td>0</td>\n",
              "      <td>0</td>\n",
              "      <td>1</td>\n",
              "      <td>0</td>\n",
              "      <td>0</td>\n",
              "      <td>0</td>\n",
              "      <td>0</td>\n",
              "      <td>0</td>\n",
              "      <td>0</td>\n",
              "      <td>0</td>\n",
              "      <td>1</td>\n",
              "      <td>0</td>\n",
              "      <td>0</td>\n",
              "      <td>0</td>\n",
              "      <td>0</td>\n",
              "      <td>0</td>\n",
              "      <td>0</td>\n",
              "      <td>0</td>\n",
              "      <td>0</td>\n",
              "      <td>0</td>\n",
              "      <td>0</td>\n",
              "      <td>1</td>\n",
              "      <td>0</td>\n",
              "      <td>0</td>\n",
              "      <td>0</td>\n",
              "      <td>0</td>\n",
              "      <td>0</td>\n",
              "      <td>0</td>\n",
              "      <td>0</td>\n",
              "      <td>0</td>\n",
              "      <td>0</td>\n",
              "      <td>0</td>\n",
              "      <td>0</td>\n",
              "      <td>0</td>\n",
              "      <td>0</td>\n",
              "      <td>0</td>\n",
              "      <td>0</td>\n",
              "    </tr>\n",
              "    <tr>\n",
              "      <th>1</th>\n",
              "      <td>0</td>\n",
              "      <td>0.0</td>\n",
              "      <td>157.000000</td>\n",
              "      <td>-0.000000</td>\n",
              "      <td>622</td>\n",
              "      <td>0</td>\n",
              "      <td>0</td>\n",
              "      <td>0</td>\n",
              "      <td>0</td>\n",
              "      <td>0</td>\n",
              "      <td>0</td>\n",
              "      <td>0</td>\n",
              "      <td>0</td>\n",
              "      <td>0</td>\n",
              "      <td>0</td>\n",
              "      <td>0</td>\n",
              "      <td>0</td>\n",
              "      <td>0</td>\n",
              "      <td>0</td>\n",
              "      <td>0</td>\n",
              "      <td>0</td>\n",
              "      <td>0</td>\n",
              "      <td>0</td>\n",
              "      <td>0</td>\n",
              "      <td>0</td>\n",
              "      <td>0</td>\n",
              "      <td>0</td>\n",
              "      <td>0</td>\n",
              "      <td>0</td>\n",
              "      <td>0</td>\n",
              "      <td>0</td>\n",
              "      <td>1</td>\n",
              "      <td>0</td>\n",
              "      <td>0</td>\n",
              "      <td>0</td>\n",
              "      <td>0</td>\n",
              "      <td>0</td>\n",
              "      <td>0</td>\n",
              "      <td>0</td>\n",
              "      <td>0</td>\n",
              "      <td>...</td>\n",
              "      <td>0</td>\n",
              "      <td>0</td>\n",
              "      <td>0</td>\n",
              "      <td>0</td>\n",
              "      <td>0</td>\n",
              "      <td>1</td>\n",
              "      <td>0</td>\n",
              "      <td>0</td>\n",
              "      <td>0</td>\n",
              "      <td>0</td>\n",
              "      <td>0</td>\n",
              "      <td>0</td>\n",
              "      <td>0</td>\n",
              "      <td>1</td>\n",
              "      <td>0</td>\n",
              "      <td>0</td>\n",
              "      <td>0</td>\n",
              "      <td>0</td>\n",
              "      <td>0</td>\n",
              "      <td>0</td>\n",
              "      <td>0</td>\n",
              "      <td>0</td>\n",
              "      <td>0</td>\n",
              "      <td>0</td>\n",
              "      <td>1</td>\n",
              "      <td>0</td>\n",
              "      <td>0</td>\n",
              "      <td>0</td>\n",
              "      <td>0</td>\n",
              "      <td>0</td>\n",
              "      <td>0</td>\n",
              "      <td>0</td>\n",
              "      <td>0</td>\n",
              "      <td>0</td>\n",
              "      <td>0</td>\n",
              "      <td>0</td>\n",
              "      <td>0</td>\n",
              "      <td>0</td>\n",
              "      <td>0</td>\n",
              "      <td>0</td>\n",
              "    </tr>\n",
              "    <tr>\n",
              "      <th>2</th>\n",
              "      <td>0</td>\n",
              "      <td>1.0</td>\n",
              "      <td>168.600119</td>\n",
              "      <td>-0.928481</td>\n",
              "      <td>465</td>\n",
              "      <td>0</td>\n",
              "      <td>0</td>\n",
              "      <td>0</td>\n",
              "      <td>0</td>\n",
              "      <td>0</td>\n",
              "      <td>0</td>\n",
              "      <td>0</td>\n",
              "      <td>0</td>\n",
              "      <td>0</td>\n",
              "      <td>0</td>\n",
              "      <td>0</td>\n",
              "      <td>0</td>\n",
              "      <td>0</td>\n",
              "      <td>0</td>\n",
              "      <td>0</td>\n",
              "      <td>0</td>\n",
              "      <td>0</td>\n",
              "      <td>0</td>\n",
              "      <td>0</td>\n",
              "      <td>0</td>\n",
              "      <td>0</td>\n",
              "      <td>0</td>\n",
              "      <td>0</td>\n",
              "      <td>0</td>\n",
              "      <td>0</td>\n",
              "      <td>0</td>\n",
              "      <td>1</td>\n",
              "      <td>0</td>\n",
              "      <td>0</td>\n",
              "      <td>0</td>\n",
              "      <td>0</td>\n",
              "      <td>0</td>\n",
              "      <td>0</td>\n",
              "      <td>0</td>\n",
              "      <td>0</td>\n",
              "      <td>...</td>\n",
              "      <td>0</td>\n",
              "      <td>0</td>\n",
              "      <td>0</td>\n",
              "      <td>0</td>\n",
              "      <td>0</td>\n",
              "      <td>1</td>\n",
              "      <td>0</td>\n",
              "      <td>0</td>\n",
              "      <td>0</td>\n",
              "      <td>0</td>\n",
              "      <td>0</td>\n",
              "      <td>0</td>\n",
              "      <td>0</td>\n",
              "      <td>1</td>\n",
              "      <td>0</td>\n",
              "      <td>0</td>\n",
              "      <td>0</td>\n",
              "      <td>0</td>\n",
              "      <td>0</td>\n",
              "      <td>0</td>\n",
              "      <td>0</td>\n",
              "      <td>0</td>\n",
              "      <td>0</td>\n",
              "      <td>0</td>\n",
              "      <td>1</td>\n",
              "      <td>0</td>\n",
              "      <td>0</td>\n",
              "      <td>0</td>\n",
              "      <td>0</td>\n",
              "      <td>0</td>\n",
              "      <td>0</td>\n",
              "      <td>0</td>\n",
              "      <td>0</td>\n",
              "      <td>0</td>\n",
              "      <td>0</td>\n",
              "      <td>0</td>\n",
              "      <td>0</td>\n",
              "      <td>0</td>\n",
              "      <td>0</td>\n",
              "      <td>0</td>\n",
              "    </tr>\n",
              "    <tr>\n",
              "      <th>3</th>\n",
              "      <td>0</td>\n",
              "      <td>0.0</td>\n",
              "      <td>222.865430</td>\n",
              "      <td>0.903063</td>\n",
              "      <td>412</td>\n",
              "      <td>0</td>\n",
              "      <td>0</td>\n",
              "      <td>0</td>\n",
              "      <td>0</td>\n",
              "      <td>0</td>\n",
              "      <td>0</td>\n",
              "      <td>0</td>\n",
              "      <td>0</td>\n",
              "      <td>0</td>\n",
              "      <td>0</td>\n",
              "      <td>0</td>\n",
              "      <td>0</td>\n",
              "      <td>0</td>\n",
              "      <td>0</td>\n",
              "      <td>0</td>\n",
              "      <td>0</td>\n",
              "      <td>0</td>\n",
              "      <td>0</td>\n",
              "      <td>0</td>\n",
              "      <td>0</td>\n",
              "      <td>0</td>\n",
              "      <td>0</td>\n",
              "      <td>0</td>\n",
              "      <td>0</td>\n",
              "      <td>0</td>\n",
              "      <td>0</td>\n",
              "      <td>1</td>\n",
              "      <td>0</td>\n",
              "      <td>0</td>\n",
              "      <td>0</td>\n",
              "      <td>0</td>\n",
              "      <td>0</td>\n",
              "      <td>0</td>\n",
              "      <td>0</td>\n",
              "      <td>0</td>\n",
              "      <td>...</td>\n",
              "      <td>0</td>\n",
              "      <td>0</td>\n",
              "      <td>0</td>\n",
              "      <td>0</td>\n",
              "      <td>0</td>\n",
              "      <td>1</td>\n",
              "      <td>0</td>\n",
              "      <td>0</td>\n",
              "      <td>0</td>\n",
              "      <td>0</td>\n",
              "      <td>0</td>\n",
              "      <td>0</td>\n",
              "      <td>0</td>\n",
              "      <td>1</td>\n",
              "      <td>0</td>\n",
              "      <td>0</td>\n",
              "      <td>0</td>\n",
              "      <td>0</td>\n",
              "      <td>0</td>\n",
              "      <td>0</td>\n",
              "      <td>0</td>\n",
              "      <td>0</td>\n",
              "      <td>0</td>\n",
              "      <td>0</td>\n",
              "      <td>1</td>\n",
              "      <td>0</td>\n",
              "      <td>0</td>\n",
              "      <td>0</td>\n",
              "      <td>0</td>\n",
              "      <td>0</td>\n",
              "      <td>0</td>\n",
              "      <td>0</td>\n",
              "      <td>0</td>\n",
              "      <td>0</td>\n",
              "      <td>0</td>\n",
              "      <td>0</td>\n",
              "      <td>0</td>\n",
              "      <td>0</td>\n",
              "      <td>0</td>\n",
              "      <td>0</td>\n",
              "    </tr>\n",
              "    <tr>\n",
              "      <th>4</th>\n",
              "      <td>0</td>\n",
              "      <td>1.0</td>\n",
              "      <td>0.000000</td>\n",
              "      <td>1.570796</td>\n",
              "      <td>379</td>\n",
              "      <td>0</td>\n",
              "      <td>0</td>\n",
              "      <td>0</td>\n",
              "      <td>0</td>\n",
              "      <td>0</td>\n",
              "      <td>1</td>\n",
              "      <td>0</td>\n",
              "      <td>0</td>\n",
              "      <td>0</td>\n",
              "      <td>0</td>\n",
              "      <td>0</td>\n",
              "      <td>0</td>\n",
              "      <td>0</td>\n",
              "      <td>0</td>\n",
              "      <td>0</td>\n",
              "      <td>0</td>\n",
              "      <td>0</td>\n",
              "      <td>0</td>\n",
              "      <td>0</td>\n",
              "      <td>0</td>\n",
              "      <td>0</td>\n",
              "      <td>0</td>\n",
              "      <td>0</td>\n",
              "      <td>0</td>\n",
              "      <td>0</td>\n",
              "      <td>0</td>\n",
              "      <td>0</td>\n",
              "      <td>0</td>\n",
              "      <td>0</td>\n",
              "      <td>0</td>\n",
              "      <td>0</td>\n",
              "      <td>0</td>\n",
              "      <td>0</td>\n",
              "      <td>0</td>\n",
              "      <td>0</td>\n",
              "      <td>...</td>\n",
              "      <td>0</td>\n",
              "      <td>0</td>\n",
              "      <td>0</td>\n",
              "      <td>0</td>\n",
              "      <td>0</td>\n",
              "      <td>1</td>\n",
              "      <td>0</td>\n",
              "      <td>0</td>\n",
              "      <td>0</td>\n",
              "      <td>0</td>\n",
              "      <td>0</td>\n",
              "      <td>0</td>\n",
              "      <td>0</td>\n",
              "      <td>0</td>\n",
              "      <td>1</td>\n",
              "      <td>0</td>\n",
              "      <td>0</td>\n",
              "      <td>0</td>\n",
              "      <td>0</td>\n",
              "      <td>0</td>\n",
              "      <td>0</td>\n",
              "      <td>0</td>\n",
              "      <td>0</td>\n",
              "      <td>0</td>\n",
              "      <td>1</td>\n",
              "      <td>0</td>\n",
              "      <td>0</td>\n",
              "      <td>0</td>\n",
              "      <td>0</td>\n",
              "      <td>0</td>\n",
              "      <td>0</td>\n",
              "      <td>0</td>\n",
              "      <td>0</td>\n",
              "      <td>0</td>\n",
              "      <td>0</td>\n",
              "      <td>0</td>\n",
              "      <td>0</td>\n",
              "      <td>0</td>\n",
              "      <td>0</td>\n",
              "      <td>0</td>\n",
              "    </tr>\n",
              "  </tbody>\n",
              "</table>\n",
              "<p>5 rows × 130 columns</p>\n",
              "</div>"
            ],
            "text/plain": [
              "   playoffs  shot_made_flag        dist  ...  season_2013  season_2014  season_2015\n",
              "0         0             NaN  181.859836  ...            0            0            0\n",
              "1         0             0.0  157.000000  ...            0            0            0\n",
              "2         0             1.0  168.600119  ...            0            0            0\n",
              "3         0             0.0  222.865430  ...            0            0            0\n",
              "4         0             1.0    0.000000  ...            0            0            0\n",
              "\n",
              "[5 rows x 130 columns]"
            ]
          },
          "metadata": {
            "tags": []
          },
          "execution_count": 142
        }
      ]
    },
    {
      "cell_type": "markdown",
      "metadata": {
        "id": "j09eCRD4vReV",
        "colab_type": "text"
      },
      "source": [
        "###Separate training, target, submission"
      ]
    },
    {
      "cell_type": "code",
      "metadata": {
        "id": "XmG3lujjvXS1",
        "colab_type": "code",
        "colab": {}
      },
      "source": [
        "temp = data[pd.notnull(data['shot_made_flag'])]\n",
        "submission = data[pd.isnull(data['shot_made_flag'])]\n",
        "submission = submission.drop('shot_made_flag',1)"
      ],
      "execution_count": 0,
      "outputs": []
    },
    {
      "cell_type": "code",
      "metadata": {
        "id": "095xN9Gfwy5-",
        "colab_type": "code",
        "colab": {}
      },
      "source": [
        "train = temp.drop('shot_made_flag',1)\n",
        "y = temp['shot_made_flag']"
      ],
      "execution_count": 0,
      "outputs": []
    },
    {
      "cell_type": "markdown",
      "metadata": {
        "id": "K00NK8CCyvBq",
        "colab_type": "text"
      },
      "source": [
        "###Looking at angle and distance. Innovative way to display place on court and get rid of 6 other columns"
      ]
    },
    {
      "cell_type": "code",
      "metadata": {
        "id": "ni4Me0oDyUij",
        "colab_type": "code",
        "colab": {
          "base_uri": "https://localhost:8080/",
          "height": 204
        },
        "outputId": "5e6d8214-dbf5-46bd-eede-30d857c71f95"
      },
      "source": [
        "pd.DataFrame({'angle':train.angle, 'dist':train.dist}).head()"
      ],
      "execution_count": 145,
      "outputs": [
        {
          "output_type": "execute_result",
          "data": {
            "text/html": [
              "<div>\n",
              "<style scoped>\n",
              "    .dataframe tbody tr th:only-of-type {\n",
              "        vertical-align: middle;\n",
              "    }\n",
              "\n",
              "    .dataframe tbody tr th {\n",
              "        vertical-align: top;\n",
              "    }\n",
              "\n",
              "    .dataframe thead th {\n",
              "        text-align: right;\n",
              "    }\n",
              "</style>\n",
              "<table border=\"1\" class=\"dataframe\">\n",
              "  <thead>\n",
              "    <tr style=\"text-align: right;\">\n",
              "      <th></th>\n",
              "      <th>angle</th>\n",
              "      <th>dist</th>\n",
              "    </tr>\n",
              "  </thead>\n",
              "  <tbody>\n",
              "    <tr>\n",
              "      <th>1</th>\n",
              "      <td>-0.000000</td>\n",
              "      <td>157.000000</td>\n",
              "    </tr>\n",
              "    <tr>\n",
              "      <th>2</th>\n",
              "      <td>-0.928481</td>\n",
              "      <td>168.600119</td>\n",
              "    </tr>\n",
              "    <tr>\n",
              "      <th>3</th>\n",
              "      <td>0.903063</td>\n",
              "      <td>222.865430</td>\n",
              "    </tr>\n",
              "    <tr>\n",
              "      <th>4</th>\n",
              "      <td>1.570796</td>\n",
              "      <td>0.000000</td>\n",
              "    </tr>\n",
              "    <tr>\n",
              "      <th>5</th>\n",
              "      <td>0.075717</td>\n",
              "      <td>145.416643</td>\n",
              "    </tr>\n",
              "  </tbody>\n",
              "</table>\n",
              "</div>"
            ],
            "text/plain": [
              "      angle        dist\n",
              "1 -0.000000  157.000000\n",
              "2 -0.928481  168.600119\n",
              "3  0.903063  222.865430\n",
              "4  1.570796    0.000000\n",
              "5  0.075717  145.416643"
            ]
          },
          "metadata": {
            "tags": []
          },
          "execution_count": 145
        }
      ]
    },
    {
      "cell_type": "markdown",
      "metadata": {
        "id": "D-wR9oCec_Uw",
        "colab_type": "text"
      },
      "source": [
        "#Making the Model"
      ]
    },
    {
      "cell_type": "code",
      "metadata": {
        "id": "kaUQ-Af58_iV",
        "colab_type": "code",
        "colab": {}
      },
      "source": [
        "from sklearn.ensemble import RandomForestClassifier\n",
        "\n",
        "classifier = RandomForestClassifier(n_estimators=40,max_depth=20)\n",
        "classifier.fit(train, y)\n",
        "pred = classifier.predict(submission)\n",
        "\n",
        "from sklearn import metrics\n",
        "#train_accuracy = metrics.accuracy_score(y,submission)"
      ],
      "execution_count": 0,
      "outputs": []
    },
    {
      "cell_type": "code",
      "metadata": {
        "id": "op9B9Sw7c-Y8",
        "colab_type": "code",
        "colab": {}
      },
      "source": [
        "#from sklearn.model_selection import train_test_split\n",
        "\n",
        "\n",
        "#train_X, val_X, train_y, val_y = train_test_split(train, y, \n",
        "#                                                    train_size=0.8,\n",
        "#                                                    test_size=0.2,\n",
        "#                                                    random_state=100)"
      ],
      "execution_count": 0,
      "outputs": []
    },
    {
      "cell_type": "markdown",
      "metadata": {
        "id": "tly0_VMKxr7A",
        "colab_type": "text"
      },
      "source": [
        "###KNeighbors with changes"
      ]
    },
    {
      "cell_type": "code",
      "metadata": {
        "id": "kKcHUW9HxhV1",
        "colab_type": "code",
        "colab": {}
      },
      "source": [
        "#classifier1 = KNeighborsClassifier(n_neighbors=1)\n",
        "#classifier1.fit(train_X, train_y)\n",
        " \n",
        "#knn1_val_y = classifier1.predict(val_X)\n",
        "#knn1_val_accuracy = metrics.accuracy_score(val_y, knn1_val_y)\n",
        "\n",
        "#print(\"New Val Accuracy: \", knn1_val_accuracy)\n",
        "#print('')\n",
        "\n",
        "\n",
        "#classifier2 = KNeighborsClassifier(n_neighbors=1)\n",
        "#classifier2.fit(train_X, train_y)\n",
        " \n",
        "#knn1_train_y = classifier2.predict(train_X)\n",
        "#knn1_train_accuracy = metrics.accuracy_score(train_y, knn1_train_y)\n",
        "#print(\"New Train Accuracy: \", knn1_train_accuracy)"
      ],
      "execution_count": 0,
      "outputs": []
    },
    {
      "cell_type": "markdown",
      "metadata": {
        "id": "nuBIXpuF0NuE",
        "colab_type": "text"
      },
      "source": [
        "#Submission"
      ]
    },
    {
      "cell_type": "code",
      "metadata": {
        "id": "L8RQHAAI0QjJ",
        "colab_type": "code",
        "colab": {}
      },
      "source": [
        "submit = pd.read_csv(\"sample_submission.csv\")\n",
        "submit['shot_made_flag'] = pred\n",
        "submit.to_csv('final_submission.csv',index=False)\n",
        "\n",
        "from google.colab import files\n",
        "#files.download('final_submission.csv')"
      ],
      "execution_count": 0,
      "outputs": []
    }
  ]
}